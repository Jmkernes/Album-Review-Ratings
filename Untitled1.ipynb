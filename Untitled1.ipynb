{
 "cells": [
  {
   "cell_type": "code",
   "execution_count": 1,
   "metadata": {},
   "outputs": [],
   "source": [
    "import os\n",
    "import pandas as pd\n",
    "import numpy as np\n",
    "import requests\n",
    "from bs4 import BeautifulSoup"
   ]
  },
  {
   "cell_type": "code",
   "execution_count": 2,
   "metadata": {},
   "outputs": [
    {
     "name": "stdout",
     "output_type": "stream",
     "text": [
      "/bin/bash: /Users/jonathankernes/Documents/Computer: No such file or directory\n",
      "Note: you may need to restart the kernel to use updated packages.\n"
     ]
    }
   ],
   "source": []
  },
  {
   "cell_type": "code",
   "execution_count": 2,
   "metadata": {},
   "outputs": [],
   "source": [
    "URL='https://pitchfork.com/reviews/albums/juice-wrld-legends-never-die/'\n",
    "page=requests.get(URL)\n",
    "soup = BeautifulSoup(page.content, 'html.parser')"
   ]
  },
  {
   "cell_type": "code",
   "execution_count": 61,
   "metadata": {},
   "outputs": [],
   "source": [
    "# Input a review page URL, returns a tuple of text score\n",
    "# this is specific to the pitchfork review page. Could change over time!\n",
    "def get_text_and_score(URL):\n",
    "    page = requests.get(URL)\n",
    "    soup = BeautifulSoup(page.content, 'html.parser')\n",
    "    pElems = soup.find('div', class_='contents dropcap')\n",
    "    text = ''.join([p.get_text() for p in pElems.find_all('p')])\n",
    "    score = float(soup.find('span', class_='score').get_text())\n",
    "    return text, score"
   ]
  },
  {
   "cell_type": "code",
   "execution_count": 62,
   "metadata": {},
   "outputs": [],
   "source": [
    "def extract_all_reviews(num_pages=10):\n",
    "    # Initialize the album names, text column, and score colum\n",
    "    album_names = []\n",
    "    review_text = []\n",
    "    review_score = []\n",
    "    start=time.time()\n",
    "    \n",
    "    #Loop over all pages. Each page has about 16 albums on it\n",
    "    for page_num in range(1,num_pages+1):\n",
    "        print('Scraping page',page_num,'...',time.time()-start,'s elapsed')\n",
    "        \n",
    "        # Extract the URL of the main page, and dump its contents into page/soup\n",
    "        URL = 'https://pitchfork.com/reviews/albums/?genre=rap&page='+str(page_num)\n",
    "        page = requests.get(URL)\n",
    "        soup = BeautifulSoup(page.content, 'html.parser')\n",
    "        \n",
    "        # Now loop over all linked albums on main page\n",
    "        # apply the text, score extraction to each review\n",
    "        reviews = soup.find_all('div', class_='review')\n",
    "        for review in reviews:\n",
    "            title = review.find('h2',class_='review__title-album').get_text()\n",
    "            print('\\tGetting review/score for',title)\n",
    "            review_link = 'https://pitchfork.com/'+review.find('a')['href']\n",
    "            text, score = get_text_and_score(review_link)\n",
    "            album_names.append(title)\n",
    "            review_text.append(text)\n",
    "            review_score.append(score)\n",
    "            \n",
    "    # Lastly, create a dataframe to store the data, and output it\n",
    "    print('Total time to scrape:',time.time()-start)\n",
    "    df = pd.DataFrame({'Score':review_score,'Review':review_text}, index = album_names)\n",
    "    return df"
   ]
  },
  {
   "cell_type": "code",
   "execution_count": 63,
   "metadata": {},
   "outputs": [
    {
     "name": "stdout",
     "output_type": "stream",
     "text": [
      "Scraping page 1 ... 4.0531158447265625e-06 s elapsed\n",
      "\tGetting review/score for Legends Never Die\n",
      "\tGetting review/score for None of Us Are Getting Out of This Life Alive\n",
      "\tGetting review/score for Barnacles\n",
      "\tGetting review/score for One Year\n",
      "\tGetting review/score for As God Intended\n",
      "\tGetting review/score for So Icy Summer\n",
      "\tGetting review/score for Shoot for the Stars Aim for the Moon\n",
      "\tGetting review/score for Futuro Conjunto\n",
      "\tGetting review/score for City on Lock\n",
      "\tGetting review/score for Everything’s Strange Here\n",
      "\tGetting review/score for Weight of the World\n",
      "\tGetting review/score for Young & Turnt 2 (Deluxe)\n",
      "Scraping page 2 ... 31.162528038024902 s elapsed\n",
      "\tGetting review/score for Son of a Gun\n",
      "\tGetting review/score for Roy Ayers JID 002\n",
      "\tGetting review/score for Little Dominiques Nosebleed\n",
      "\tGetting review/score for I Love You Say It Back\n",
      "\tGetting review/score for The Godfather 3\n",
      "\tGetting review/score for Thank You For Using GTL\n",
      "\tGetting review/score for Shrines\n",
      "\tGetting review/score for Sleepy for President\n",
      "\tGetting review/score for RTJ4\n",
      "\tGetting review/score for Alfredo\n",
      "\tGetting review/score for Ghetto Fabolous\n",
      "\tGetting review/score for El Androide\n",
      "Scraping page 3 ... 64.45290112495422 s elapsed\n",
      "\tGetting review/score for Cold Water\n",
      "\tGetting review/score for WUNNA\n",
      "\tGetting review/score for High Off Life\n",
      "\tGetting review/score for The Goat\n",
      "\tGetting review/score for Starz\n",
      "\tGetting review/score for LAS QUE NO IBAN A SALIR\n",
      "\tGetting review/score for Nehruvia: My Disregarded Thoughts\n",
      "\tGetting review/score for One and Only\n",
      "\tGetting review/score for State Of Emergency\n",
      "\tGetting review/score for Just Cause Y’all Waited 2\n",
      "\tGetting review/score for Good Intentions\n",
      "\tGetting review/score for Descendants of Cain\n",
      "Scraping page 4 ... 123.50280904769897 s elapsed\n",
      "\tGetting review/score for Slime&B\n",
      "\tGetting review/score for Drop 6 EP\n",
      "\tGetting review/score for They Call Me Disco EP\n",
      "\tGetting review/score for Beyond Bulletproof\n",
      "\tGetting review/score for Instrumental Relics\n",
      "\tGetting review/score for 800 BC\n",
      "\tGetting review/score for Dark Lane Demo Tapes\n",
      "\tGetting review/score for Thug Luv\n",
      "\tGetting review/score for 38 Baby 2\n",
      "\tGetting review/score for Sie7etr3 EP\n",
      "\tGetting review/score for Flowers on the Weekend\n",
      "\tGetting review/score for BLQLYTE\n",
      "Scraping page 5 ... 156.1186752319336 s elapsed\n",
      "\tGetting review/score for Innocent Country 2\n",
      "\tGetting review/score for Ajai\n",
      "\tGetting review/score for Pray For Paris\n",
      "\tGetting review/score for Blame It on Baby\n",
      "\tGetting review/score for The Don of Diamond Dreams\n",
      "\tGetting review/score for Negro\n",
      "\tGetting review/score for Growth & Development\n",
      "\tGetting review/score for Self Hate Wraith\n",
      "\tGetting review/score for BRAT\n",
      "\tGetting review/score for Pray 4 Love\n",
      "\tGetting review/score for 1988\n",
      "\tGetting review/score for In Bank We Trust\n",
      "Scraping page 6 ... 189.74604320526123 s elapsed\n",
      "\tGetting review/score for Return to the 36 Chambers: The Dirty Version\n",
      "\tGetting review/score for City on My Back\n",
      "\tGetting review/score for Colores\n",
      "\tGetting review/score for 3.15.20\n",
      "\tGetting review/score for Less Is Moor\n",
      "\tGetting review/score for LUV vs. The World 2\n",
      "\tGetting review/score for Heaven or Hell\n",
      "\tGetting review/score for A Written Testimony\n",
      "\tGetting review/score for Free Drakeo\n",
      "\tGetting review/score for Purple Moonlight Pages\n",
      "\tGetting review/score for the One EP\n",
      "\tGetting review/score for The Long Goodbye\n",
      "Scraping page 7 ... 221.6522660255432 s elapsed\n",
      "\tGetting review/score for Suga\n",
      "\tGetting review/score for Wave Pack\n",
      "\tGetting review/score for Eternal Atake\n",
      "\tGetting review/score for Anyways\n",
      "\tGetting review/score for YHLQMDLG\n",
      "\tGetting review/score for PTSD\n",
      "\tGetting review/score for My Turn\n",
      "\tGetting review/score for Everything Is Beautiful / Everything Sucks\n",
      "\tGetting review/score for Red Paint Reverend\n",
      "\tGetting review/score for Got It Made\n",
      "\tGetting review/score for Full Circle\n",
      "\tGetting review/score for The Allegory\n",
      "Scraping page 8 ... 257.3835723400116 s elapsed\n",
      "\tGetting review/score for The Price of Tea in China\n",
      "\tGetting review/score for Planet Swajjur\n",
      "\tGetting review/score for Unlocked\n",
      "\tGetting review/score for Meet the Woo Vol. 2\n",
      "\tGetting review/score for Àdá Irin\n",
      "\tGetting review/score for Yellow Tape\n",
      "\tGetting review/score for Try Again\n",
      "\tGetting review/score for Crashed My Car\n",
      "\tGetting review/score for Which Way Is Forward? EP\n",
      "\tGetting review/score for Funeral\n",
      "\tGetting review/score for LSD\n",
      "\tGetting review/score for Big Conspiracy\n",
      "Scraping page 9 ... 292.2302460670471 s elapsed\n",
      "\tGetting review/score for Big Baby Earnhardt\n",
      "\tGetting review/score for Brolik\n",
      "\tGetting review/score for Music to Be Murdered By\n",
      "\tGetting review/score for RICH YOUNGIN\n",
      "\tGetting review/score for Modus Vivendi\n",
      "\tGetting review/score for The Professionals\n",
      "\tGetting review/score for Coke Wave\n",
      "\tGetting review/score for Circles\n",
      "\tGetting review/score for Purple Haze 2\n",
      "\tGetting review/score for The Circus EP\n",
      "\tGetting review/score for in case i die first\n",
      "\tGetting review/score for Jesus Is Born\n",
      "Scraping page 10 ... 327.66358709335327 s elapsed\n",
      "\tGetting review/score for JACKBOYS\n",
      "\tGetting review/score for Bite the Burger\n",
      "\tGetting review/score for MONTANA\n",
      "\tGetting review/score for Heavy Is the Head\n",
      "\tGetting review/score for WT_PRT15.\n",
      "\tGetting review/score for The Chronic\n",
      "\tGetting review/score for Bad Vibes Forever\n",
      "\tGetting review/score for Grime MC\n",
      "\tGetting review/score for Please Excuse Me For Being Antisocial\n",
      "\tGetting review/score for Melly vs. Melvin\n",
      "\tGetting review/score for Marcielago\n",
      "\tGetting review/score for The Hood Dictionary\n",
      "Total time to scrape: 360.07138299942017\n"
     ]
    }
   ],
   "source": [
    "df = extract_all_reviews(10)"
   ]
  },
  {
   "cell_type": "code",
   "execution_count": 64,
   "metadata": {},
   "outputs": [],
   "source": [
    "df.to_csv('AlbumReviewData')"
   ]
  },
  {
   "cell_type": "code",
   "execution_count": 65,
   "metadata": {},
   "outputs": [
    {
     "data": {
      "text/html": [
       "<div>\n",
       "<style scoped>\n",
       "    .dataframe tbody tr th:only-of-type {\n",
       "        vertical-align: middle;\n",
       "    }\n",
       "\n",
       "    .dataframe tbody tr th {\n",
       "        vertical-align: top;\n",
       "    }\n",
       "\n",
       "    .dataframe thead th {\n",
       "        text-align: right;\n",
       "    }\n",
       "</style>\n",
       "<table border=\"1\" class=\"dataframe\">\n",
       "  <thead>\n",
       "    <tr style=\"text-align: right;\">\n",
       "      <th></th>\n",
       "      <th>Score</th>\n",
       "      <th>Review</th>\n",
       "    </tr>\n",
       "  </thead>\n",
       "  <tbody>\n",
       "    <tr>\n",
       "      <th>Legends Never Die</th>\n",
       "      <td>7.1</td>\n",
       "      <td>At 21, Juice WRLD had begun to master the worl...</td>\n",
       "    </tr>\n",
       "    <tr>\n",
       "      <th>None of Us Are Getting Out of This Life Alive</th>\n",
       "      <td>5.5</td>\n",
       "      <td>In 2011, after nearly a decade of attempted re...</td>\n",
       "    </tr>\n",
       "    <tr>\n",
       "      <th>Barnacles</th>\n",
       "      <td>7.3</td>\n",
       "      <td>Of Atlanta’s abundance of rap weirdos, the 23-...</td>\n",
       "    </tr>\n",
       "    <tr>\n",
       "      <th>One Year</th>\n",
       "      <td>7.8</td>\n",
       "      <td>Model Home’s music would blend right in with a...</td>\n",
       "    </tr>\n",
       "    <tr>\n",
       "      <th>As God Intended</th>\n",
       "      <td>7.7</td>\n",
       "      <td>Halfway through As God Intended, on the ominou...</td>\n",
       "    </tr>\n",
       "  </tbody>\n",
       "</table>\n",
       "</div>"
      ],
      "text/plain": [
       "                                               Score  \\\n",
       "Legends Never Die                                7.1   \n",
       "None of Us Are Getting Out of This Life Alive    5.5   \n",
       "Barnacles                                        7.3   \n",
       "One Year                                         7.8   \n",
       "As God Intended                                  7.7   \n",
       "\n",
       "                                                                                          Review  \n",
       "Legends Never Die                              At 21, Juice WRLD had begun to master the worl...  \n",
       "None of Us Are Getting Out of This Life Alive  In 2011, after nearly a decade of attempted re...  \n",
       "Barnacles                                      Of Atlanta’s abundance of rap weirdos, the 23-...  \n",
       "One Year                                       Model Home’s music would blend right in with a...  \n",
       "As God Intended                                Halfway through As God Intended, on the ominou...  "
      ]
     },
     "execution_count": 65,
     "metadata": {},
     "output_type": "execute_result"
    }
   ],
   "source": [
    "df.head()"
   ]
  },
  {
   "cell_type": "code",
   "execution_count": 66,
   "metadata": {},
   "outputs": [
    {
     "name": "stdout",
     "output_type": "stream",
     "text": [
      "<class 'pandas.core.frame.DataFrame'>\n",
      "Index: 120 entries, Legends Never Die to The Hood Dictionary\n",
      "Data columns (total 2 columns):\n",
      " #   Column  Non-Null Count  Dtype  \n",
      "---  ------  --------------  -----  \n",
      " 0   Score   120 non-null    float64\n",
      " 1   Review  120 non-null    object \n",
      "dtypes: float64(1), object(1)\n",
      "memory usage: 2.8+ KB\n"
     ]
    }
   ],
   "source": [
    "df.info()"
   ]
  },
  {
   "cell_type": "code",
   "execution_count": 67,
   "metadata": {},
   "outputs": [],
   "source": [
    "from sklearn.feature_extraction.text import CountVectorizer\n",
    "\n",
    "vectorizer = CountVectorizer()\n",
    "X=vectorizer.fit_transform(df['Review'])\n",
    "y = df['Score']"
   ]
  },
  {
   "cell_type": "code",
   "execution_count": 76,
   "metadata": {},
   "outputs": [],
   "source": [
    "from sklearn.model_selection import train_test_split\n",
    "\n",
    "X_train, X_test, y_train, y_test = train_test_split(X, y, test_size=0.1, random_state=42)"
   ]
  },
  {
   "cell_type": "code",
   "execution_count": 77,
   "metadata": {},
   "outputs": [],
   "source": [
    "from sklearn.ensemble import RandomForestRegressor\n",
    "\n",
    "forest_clf = RandomForestRegressor()\n",
    "forest_clf.fit(X_train, y_train)\n",
    "y_pred = forest_clf.predict(X_test)"
   ]
  },
  {
   "cell_type": "code",
   "execution_count": 78,
   "metadata": {},
   "outputs": [
    {
     "data": {
      "text/plain": [
       "array([5.586, 7.322, 7.06 , 7.393, 7.023, 7.205, 7.192, 7.004, 6.927,\n",
       "       7.083, 7.074, 7.191])"
      ]
     },
     "execution_count": 78,
     "metadata": {},
     "output_type": "execute_result"
    }
   ],
   "source": [
    "y_pred"
   ]
  },
  {
   "cell_type": "code",
   "execution_count": 79,
   "metadata": {},
   "outputs": [
    {
     "data": {
      "text/plain": [
       "38 Baby 2              7.0\n",
       "BLQLYTE                7.5\n",
       "As God Intended        7.7\n",
       "Self Hate Wraith       7.2\n",
       "High Off Life          7.1\n",
       "Less Is Moor           7.5\n",
       "Wave Pack              8.0\n",
       "Weight of the World    8.0\n",
       "Instrumental Relics    8.0\n",
       "Jesus Is Born          7.4\n",
       "Shrines                8.0\n",
       "Colores                7.3\n",
       "Name: Score, dtype: float64"
      ]
     },
     "execution_count": 79,
     "metadata": {},
     "output_type": "execute_result"
    }
   ],
   "source": [
    "y_test"
   ]
  },
  {
   "cell_type": "code",
   "execution_count": 80,
   "metadata": {},
   "outputs": [
    {
     "data": {
      "text/plain": [
       "0.7266898696601376"
      ]
     },
     "execution_count": 80,
     "metadata": {},
     "output_type": "execute_result"
    }
   ],
   "source": [
    "from sklearn.metrics import mean_squared_error\n",
    "\n",
    "np.sqrt(mean_squared_error(y_pred, y_test))"
   ]
  },
  {
   "cell_type": "code",
   "execution_count": 81,
   "metadata": {},
   "outputs": [
    {
     "data": {
      "text/plain": [
       "38 Baby 2             -1.414\n",
       "BLQLYTE               -0.178\n",
       "As God Intended       -0.640\n",
       "Self Hate Wraith       0.193\n",
       "High Off Life         -0.077\n",
       "Less Is Moor          -0.295\n",
       "Wave Pack             -0.808\n",
       "Weight of the World   -0.996\n",
       "Instrumental Relics   -1.073\n",
       "Jesus Is Born         -0.317\n",
       "Shrines               -0.926\n",
       "Colores               -0.109\n",
       "Name: Score, dtype: float64"
      ]
     },
     "execution_count": 81,
     "metadata": {},
     "output_type": "execute_result"
    }
   ],
   "source": [
    "y_pred-y_test"
   ]
  },
  {
   "cell_type": "code",
   "execution_count": 75,
   "metadata": {},
   "outputs": [
    {
     "data": {
      "text/plain": [
       "0.16183187500000026"
      ]
     },
     "execution_count": 75,
     "metadata": {},
     "output_type": "execute_result"
    }
   ],
   "source": [
    "mean_squared_error(y_train, forest_clf.predict(X_train))"
   ]
  },
  {
   "cell_type": "code",
   "execution_count": null,
   "metadata": {},
   "outputs": [],
   "source": [
    "\n"
   ]
  }
 ],
 "metadata": {
  "kernelspec": {
   "display_name": "Python 3",
   "language": "python",
   "name": "python3"
  },
  "language_info": {
   "codemirror_mode": {
    "name": "ipython",
    "version": 3
   },
   "file_extension": ".py",
   "mimetype": "text/x-python",
   "name": "python",
   "nbconvert_exporter": "python",
   "pygments_lexer": "ipython3",
   "version": "3.7.4"
  }
 },
 "nbformat": 4,
 "nbformat_minor": 4
}
